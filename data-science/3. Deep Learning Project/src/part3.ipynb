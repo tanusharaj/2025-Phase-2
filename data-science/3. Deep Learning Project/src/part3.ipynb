{
 "cells": [
  {
   "cell_type": "markdown",
   "id": "2249078461bec40c",
   "metadata": {
    "collapsed": false
   },
   "source": [
    "## Step 0. Folder Structure\n",
    "```\n",
    "3. Deep Learning Project/\n",
    "├── dataset_split/\n",
    "│   ├── train/\n",
    "│   │   ├── african_elephant (780 images)\n",
    "│   │   ├── airliner (780 images)\n",
    "│   │   └── ... (8 more folders)\n",
    "│   ├── val/\n",
    "│   │   ├── african_elephant (260 images)\n",
    "│   │   ├── airliner (260 images)\n",
    "│   │   └── ... (8 more folders)\n",
    "│   └── test (2600 images)\n",
    "├── data_preprocessed/\n",
    "│   ├── labels_train.pt\n",
    "│   ├── labels_val.pt\n",
    "│   ├── tensor_test.pt\n",
    "│   ├── tensor_train.pt\n",
    "│   └── tensor_val.pt\n",
    "├── models/\n",
    "│   ├── resnet18_checkpoint.pkl\n",
    "│   └── resnet34_checkpoint.pkl\n",
    "├── src/\n",
    "│   └── part3.ipynb\n",
    "├── src_datasplit/\n",
    "│   └── data_split.ipynb\n",
    "├── MSA.yaml\n",
    "├── README.md\n",
    "└── IEEE_Report_Template.docx\n",
    "```\n"
   ]
  },
  {
   "cell_type": "code",
   "execution_count": 1,
   "id": "feff9f82a794ed57",
   "metadata": {
    "ExecuteTime": {
     "end_time": "2025-05-10T03:43:05.563885Z",
     "start_time": "2025-05-10T03:43:05.550616Z"
    },
    "collapsed": false
   },
   "outputs": [
    {
     "name": "stdout",
     "output_type": "stream",
     "text": [
      "Note: you may need to restart the kernel to use updated packages.\n",
      "Note: you may need to restart the kernel to use updated packages.\n",
      "Note: you may need to restart the kernel to use updated packages.\n",
      "Note: you may need to restart the kernel to use updated packages.\n",
      "\u001b[1;31merror\u001b[0m: \u001b[1muninstall-no-record-file\u001b[0m\n",
      "\n",
      "\u001b[31m×\u001b[0m Cannot uninstall numpy None\n",
      "\u001b[31m╰─>\u001b[0m The package's contents are unknown: no RECORD file was found for numpy.\n",
      "\n",
      "\u001b[1;36mhint\u001b[0m: You might be able to recover from this via: \u001b[32mpip install --force-reinstall --no-deps numpy==2.2.6\u001b[0m\n",
      "Note: you may need to restart the kernel to use updated packages.\n",
      "OpenCV bindings requires \"numpy\" package.\n",
      "Install it via command:\n",
      "    pip install numpy\n"
     ]
    },
    {
     "ename": "ImportError",
     "evalue": "Error importing numpy: you should not try to import numpy from\n        its source directory; please exit the numpy source tree, and relaunch\n        your python interpreter from there.",
     "output_type": "error",
     "traceback": [
      "\u001b[31m---------------------------------------------------------------------------\u001b[39m",
      "\u001b[31mModuleNotFoundError\u001b[39m                       Traceback (most recent call last)",
      "\u001b[36mFile \u001b[39m\u001b[32m~/Desktop/msa/.venv/lib/python3.11/site-packages/numpy/_core/__init__.py:23\u001b[39m\n\u001b[32m     22\u001b[39m \u001b[38;5;28;01mtry\u001b[39;00m:\n\u001b[32m---> \u001b[39m\u001b[32m23\u001b[39m     \u001b[38;5;28;01mfrom\u001b[39;00m\u001b[38;5;250m \u001b[39m\u001b[34;01m.\u001b[39;00m\u001b[38;5;250m \u001b[39m\u001b[38;5;28;01mimport\u001b[39;00m multiarray\n\u001b[32m     24\u001b[39m \u001b[38;5;28;01mexcept\u001b[39;00m \u001b[38;5;167;01mImportError\u001b[39;00m \u001b[38;5;28;01mas\u001b[39;00m exc:\n",
      "\u001b[36mFile \u001b[39m\u001b[32m~/Desktop/msa/.venv/lib/python3.11/site-packages/numpy/_core/multiarray.py:10\u001b[39m\n\u001b[32m      9\u001b[39m \u001b[38;5;28;01mimport\u001b[39;00m\u001b[38;5;250m \u001b[39m\u001b[34;01mfunctools\u001b[39;00m\n\u001b[32m---> \u001b[39m\u001b[32m10\u001b[39m \u001b[38;5;28;01mfrom\u001b[39;00m\u001b[38;5;250m \u001b[39m\u001b[34;01m.\u001b[39;00m\u001b[38;5;250m \u001b[39m\u001b[38;5;28;01mimport\u001b[39;00m overrides\n\u001b[32m     11\u001b[39m \u001b[38;5;28;01mfrom\u001b[39;00m\u001b[38;5;250m \u001b[39m\u001b[34;01m.\u001b[39;00m\u001b[38;5;250m \u001b[39m\u001b[38;5;28;01mimport\u001b[39;00m _multiarray_umath\n",
      "\u001b[36mFile \u001b[39m\u001b[32m~/Desktop/msa/.venv/lib/python3.11/site-packages/numpy/_core/overrides.py:8\u001b[39m\n\u001b[32m      7\u001b[39m \u001b[38;5;28;01mfrom\u001b[39;00m\u001b[38;5;250m \u001b[39m\u001b[34;01m.\u001b[39;00m\u001b[34;01m.\u001b[39;00m\u001b[34;01m_utils\u001b[39;00m\u001b[34;01m.\u001b[39;00m\u001b[34;01m_inspect\u001b[39;00m\u001b[38;5;250m \u001b[39m\u001b[38;5;28;01mimport\u001b[39;00m getargspec\n\u001b[32m----> \u001b[39m\u001b[32m8\u001b[39m \u001b[38;5;28;01mfrom\u001b[39;00m\u001b[38;5;250m \u001b[39m\u001b[34;01mnumpy\u001b[39;00m\u001b[34;01m.\u001b[39;00m\u001b[34;01m_core\u001b[39;00m\u001b[34;01m.\u001b[39;00m\u001b[34;01m_multiarray_umath\u001b[39;00m\u001b[38;5;250m \u001b[39m\u001b[38;5;28;01mimport\u001b[39;00m (\n\u001b[32m      9\u001b[39m     add_docstring,  _get_implementing_args, _ArrayFunctionDispatcher)\n\u001b[32m     12\u001b[39m ARRAY_FUNCTIONS = \u001b[38;5;28mset\u001b[39m()\n",
      "\u001b[31mModuleNotFoundError\u001b[39m: No module named 'numpy._core._multiarray_umath'",
      "\nDuring handling of the above exception, another exception occurred:\n",
      "\u001b[31mImportError\u001b[39m                               Traceback (most recent call last)",
      "\u001b[36mFile \u001b[39m\u001b[32m~/Desktop/msa/.venv/lib/python3.11/site-packages/numpy/__init__.py:114\u001b[39m\n\u001b[32m    113\u001b[39m \u001b[38;5;28;01mtry\u001b[39;00m:\n\u001b[32m--> \u001b[39m\u001b[32m114\u001b[39m     \u001b[38;5;28;01mfrom\u001b[39;00m\u001b[38;5;250m \u001b[39m\u001b[34;01mnumpy\u001b[39;00m\u001b[34;01m.\u001b[39;00m\u001b[34;01m__config__\u001b[39;00m\u001b[38;5;250m \u001b[39m\u001b[38;5;28;01mimport\u001b[39;00m show \u001b[38;5;28;01mas\u001b[39;00m show_config\n\u001b[32m    115\u001b[39m \u001b[38;5;28;01mexcept\u001b[39;00m \u001b[38;5;167;01mImportError\u001b[39;00m \u001b[38;5;28;01mas\u001b[39;00m e:\n",
      "\u001b[36mFile \u001b[39m\u001b[32m~/Desktop/msa/.venv/lib/python3.11/site-packages/numpy/__config__.py:4\u001b[39m\n\u001b[32m      3\u001b[39m \u001b[38;5;28;01mfrom\u001b[39;00m\u001b[38;5;250m \u001b[39m\u001b[34;01menum\u001b[39;00m\u001b[38;5;250m \u001b[39m\u001b[38;5;28;01mimport\u001b[39;00m Enum\n\u001b[32m----> \u001b[39m\u001b[32m4\u001b[39m \u001b[38;5;28;01mfrom\u001b[39;00m\u001b[38;5;250m \u001b[39m\u001b[34;01mnumpy\u001b[39;00m\u001b[34;01m.\u001b[39;00m\u001b[34;01m_core\u001b[39;00m\u001b[34;01m.\u001b[39;00m\u001b[34;01m_multiarray_umath\u001b[39;00m\u001b[38;5;250m \u001b[39m\u001b[38;5;28;01mimport\u001b[39;00m (\n\u001b[32m      5\u001b[39m     __cpu_features__,\n\u001b[32m      6\u001b[39m     __cpu_baseline__,\n\u001b[32m      7\u001b[39m     __cpu_dispatch__,\n\u001b[32m      8\u001b[39m )\n\u001b[32m     10\u001b[39m __all__ = [\u001b[33m\"\u001b[39m\u001b[33mshow\u001b[39m\u001b[33m\"\u001b[39m]\n",
      "\u001b[36mFile \u001b[39m\u001b[32m~/Desktop/msa/.venv/lib/python3.11/site-packages/numpy/_core/__init__.py:49\u001b[39m\n\u001b[32m     26\u001b[39m     msg = \u001b[33m\"\"\"\u001b[39m\n\u001b[32m     27\u001b[39m \n\u001b[32m     28\u001b[39m \u001b[33mIMPORTANT: PLEASE READ THIS FOR ADVICE ON HOW TO SOLVE THIS ISSUE!\u001b[39m\n\u001b[32m   (...)\u001b[39m\u001b[32m     47\u001b[39m \u001b[33m\"\"\"\u001b[39m % (sys.version_info[\u001b[32m0\u001b[39m], sys.version_info[\u001b[32m1\u001b[39m], sys.executable,\n\u001b[32m     48\u001b[39m         __version__, exc)\n\u001b[32m---> \u001b[39m\u001b[32m49\u001b[39m     \u001b[38;5;28;01mraise\u001b[39;00m \u001b[38;5;167;01mImportError\u001b[39;00m(msg)\n\u001b[32m     50\u001b[39m \u001b[38;5;28;01mfinally\u001b[39;00m:\n",
      "\u001b[31mImportError\u001b[39m: \n\nIMPORTANT: PLEASE READ THIS FOR ADVICE ON HOW TO SOLVE THIS ISSUE!\n\nImporting the numpy C-extensions failed. This error can happen for\nmany reasons, often due to issues with your setup or how NumPy was\ninstalled.\n\nWe have compiled some common reasons and troubleshooting tips at:\n\n    https://numpy.org/devdocs/user/troubleshooting-importerror.html\n\nPlease note and check the following:\n\n  * The Python version is: Python3.11 from \"/Users/tanushakhanraj/Desktop/msa/.venv/bin/python\"\n  * The NumPy version is: \"2.1.3\"\n\nand make sure that they are the versions you expect.\nPlease carefully study the documentation linked above for further help.\n\nOriginal error was: No module named 'numpy._core._multiarray_umath'\n",
      "\nThe above exception was the direct cause of the following exception:\n",
      "\u001b[31mImportError\u001b[39m                               Traceback (most recent call last)",
      "\u001b[36mCell\u001b[39m\u001b[36m \u001b[39m\u001b[32mIn[1]\u001b[39m\u001b[32m, line 10\u001b[39m\n\u001b[32m      8\u001b[39m \u001b[38;5;28;01mfrom\u001b[39;00m\u001b[38;5;250m \u001b[39m\u001b[34;01mtyping\u001b[39;00m\u001b[38;5;250m \u001b[39m\u001b[38;5;28;01mimport\u001b[39;00m Tuple, List\n\u001b[32m      9\u001b[39m \u001b[38;5;28;01mimport\u001b[39;00m\u001b[38;5;250m \u001b[39m\u001b[34;01mos\u001b[39;00m\n\u001b[32m---> \u001b[39m\u001b[32m10\u001b[39m \u001b[38;5;28;01mimport\u001b[39;00m\u001b[38;5;250m \u001b[39m\u001b[34;01mcv2\u001b[39;00m\n\u001b[32m     11\u001b[39m \u001b[38;5;28;01mfrom\u001b[39;00m\u001b[38;5;250m \u001b[39m\u001b[34;01mtqdm\u001b[39;00m\u001b[38;5;250m \u001b[39m\u001b[38;5;28;01mimport\u001b[39;00m tqdm\n\u001b[32m     12\u001b[39m \u001b[38;5;28;01mimport\u001b[39;00m\u001b[38;5;250m \u001b[39m\u001b[34;01mnumpy\u001b[39;00m\u001b[38;5;250m \u001b[39m\u001b[38;5;28;01mas\u001b[39;00m\u001b[38;5;250m \u001b[39m\u001b[34;01mnp\u001b[39;00m\n",
      "\u001b[36mFile \u001b[39m\u001b[32m~/Desktop/msa/.venv/lib/python3.11/site-packages/cv2/__init__.py:11\u001b[39m\n\u001b[32m      8\u001b[39m __all__ = []\n\u001b[32m     10\u001b[39m \u001b[38;5;28;01mtry\u001b[39;00m:\n\u001b[32m---> \u001b[39m\u001b[32m11\u001b[39m     \u001b[38;5;28;01mimport\u001b[39;00m\u001b[38;5;250m \u001b[39m\u001b[34;01mnumpy\u001b[39;00m\n\u001b[32m     12\u001b[39m     \u001b[38;5;28;01mimport\u001b[39;00m\u001b[38;5;250m \u001b[39m\u001b[34;01mnumpy\u001b[39;00m\u001b[34;01m.\u001b[39;00m\u001b[34;01mcore\u001b[39;00m\u001b[34;01m.\u001b[39;00m\u001b[34;01mmultiarray\u001b[39;00m\n\u001b[32m     13\u001b[39m \u001b[38;5;28;01mexcept\u001b[39;00m \u001b[38;5;167;01mImportError\u001b[39;00m:\n",
      "\u001b[36mFile \u001b[39m\u001b[32m~/Desktop/msa/.venv/lib/python3.11/site-packages/numpy/__init__.py:119\u001b[39m\n\u001b[32m    115\u001b[39m \u001b[38;5;28;01mexcept\u001b[39;00m \u001b[38;5;167;01mImportError\u001b[39;00m \u001b[38;5;28;01mas\u001b[39;00m e:\n\u001b[32m    116\u001b[39m     msg = \u001b[33m\"\"\"\u001b[39m\u001b[33mError importing numpy: you should not try to import numpy from\u001b[39m\n\u001b[32m    117\u001b[39m \u001b[33m    its source directory; please exit the numpy source tree, and relaunch\u001b[39m\n\u001b[32m    118\u001b[39m \u001b[33m    your python interpreter from there.\u001b[39m\u001b[33m\"\"\"\u001b[39m\n\u001b[32m--> \u001b[39m\u001b[32m119\u001b[39m     \u001b[38;5;28;01mraise\u001b[39;00m \u001b[38;5;167;01mImportError\u001b[39;00m(msg) \u001b[38;5;28;01mfrom\u001b[39;00m\u001b[38;5;250m \u001b[39m\u001b[34;01me\u001b[39;00m\n\u001b[32m    121\u001b[39m \u001b[38;5;28;01mfrom\u001b[39;00m\u001b[38;5;250m \u001b[39m\u001b[34;01m.\u001b[39;00m\u001b[38;5;250m \u001b[39m\u001b[38;5;28;01mimport\u001b[39;00m _core\n\u001b[32m    122\u001b[39m \u001b[38;5;28;01mfrom\u001b[39;00m\u001b[38;5;250m \u001b[39m\u001b[34;01m.\u001b[39;00m\u001b[34;01m_core\u001b[39;00m\u001b[38;5;250m \u001b[39m\u001b[38;5;28;01mimport\u001b[39;00m (\n\u001b[32m    123\u001b[39m     False_, ScalarType, True_, _get_promotion_state, _no_nep50_warning,\n\u001b[32m    124\u001b[39m     _set_promotion_state, \u001b[38;5;28mabs\u001b[39m, absolute, acos, acosh, add, \u001b[38;5;28mall\u001b[39m, allclose,\n\u001b[32m   (...)\u001b[39m\u001b[32m    169\u001b[39m     vstack, where, zeros, zeros_like\n\u001b[32m    170\u001b[39m )\n",
      "\u001b[31mImportError\u001b[39m: Error importing numpy: you should not try to import numpy from\n        its source directory; please exit the numpy source tree, and relaunch\n        your python interpreter from there."
     ]
    }
   ],
   "source": [
    "# TODO: Import the libraries.\n",
    "%pip install opencv-python --quiet\n",
    "%pip install tqdm --quiet\n",
    "%pip install matplotlib --quiet\n",
    "%pip install torch torchvision --quiet\n",
    "%pip install tensorflow --quiet\n",
    "\n",
    "from typing import Tuple, List\n",
    "import os\n",
    "import cv2\n",
    "from tqdm import tqdm\n",
    "import numpy as np\n",
    "import torch\n",
    "import torchvision\n",
    "import torch.nn as nn\n",
    "import torch.nn.functional as F\n",
    "from collections import OrderedDict\n",
    "import copy\n",
    "import matplotlib.pyplot as plt\n",
    "import csv"
   ]
  },
  {
   "cell_type": "markdown",
   "id": "129404feccd45358",
   "metadata": {
    "collapsed": false
   },
   "source": [
    "## Step 1 Preprocessing\n",
    "1. Load images and labels from folders into lists.\n",
    "2. Resize the images.\n",
    "3. Convert the image data type as float32 and limit the range in [0, 1].\n",
    "4. Convert data from NHWC to NCHW and creat a PyTorch tensor from it.\n",
    "5. Per-channel standardization of the dataset using training set statistics (mean and std computed independently for each color channel).\n",
    "6. Saving the pre-processed sets as .pt files in the correct directory.\n",
    "7. Load the pre-processed sets from .pt files. "
   ]
  },
  {
   "cell_type": "code",
   "execution_count": null,
   "id": "initial_id",
   "metadata": {
    "ExecuteTime": {
     "end_time": "2025-05-10T03:38:13.117713Z",
     "start_time": "2025-05-10T03:38:13.110009Z"
    },
    "collapsed": true
   },
   "outputs": [],
   "source": [
    "# TODO: 1. Load images from folder into a list.\n",
    "import matplotlib.pyplot as plt\n",
    "import numpy as np\n",
    "import os\n",
    "def image_loader(set_dir: str) -> Tuple[List[np.ndarray], List[str]]:\n",
    "    \"\"\"\n",
    "    Load all images from a dataset directory (train/val/test) into memory.\n",
    "    Make sure:\n",
    "        1. Load training and validation set images and labels in the correct order.\n",
    "        2. Load testing set images in filename order (e.g., 0.jpg, 1.jpg, ...).\n",
    "    \n",
    "    Parameters:\n",
    "    -----------\n",
    "    set_dir : str\n",
    "        Path to the directory containing either:\n",
    "        - Class subdirectories (for train/val sets)\n",
    "        - Direct image files (for test set)\n",
    "        \n",
    "    Returns:\n",
    "    --------\n",
    "    Tuple[List[np.ndarray], List[str]]\n",
    "        images: List of BGR images (HWC format, uint8 dtype)\n",
    "        labels: List of string labels (empty for test set)\n",
    "        \n",
    "    Example:\n",
    "    --------\n",
    "    >>> images_train, labels_train = image_loader(\"../dataset_split/train\")\n",
    "    >>> images_test, _ = image_loader(\"../dataset_split/test\")\n",
    "    \"\"\"\n",
    "    \n",
    "    images = []\n",
    "    labels = []\n",
    "    contents = sorted(os.listdir(set_dir))\n",
    "    if all(os.path.isdir(os.path.join(set_dir, c)) for c in contents):\n",
    "        # If contents are directories, assume it's a train/val set\n",
    "        for class_name in contents:\n",
    "            class_dir = os.path.join(set_dir, class_name)\n",
    "            if os.path.isdir(class_dir):\n",
    "                for filename in sorted(os.listdir(class_dir)):\n",
    "                    if filename.endswith('.jpg'):\n",
    "                        img_path = os.path.join(class_dir, filename)\n",
    "                        img = cv2.imread(img_path)\n",
    "                        if img is not None:\n",
    "                            images.append(img)\n",
    "                            labels.append(class_name)\n",
    "    else:\n",
    "        # If contents are files, assume it's a test set\n",
    "        for filename in sorted(contents):\n",
    "            if filename.endswith('.jpg'):\n",
    "                img_path = os.path.join(set_dir, filename)\n",
    "                img = cv2.imread(img_path)\n",
    "                if img is not None:\n",
    "                    images.append(img)\n",
    "                \n",
    "              \n",
    "    return images, labels"
   ]
  },
  {
   "cell_type": "code",
   "execution_count": null,
   "id": "e9151a560c344fe2",
   "metadata": {
    "ExecuteTime": {
     "end_time": "2025-05-10T03:38:13.472357Z",
     "start_time": "2025-05-10T03:38:13.460924Z"
    },
    "collapsed": false
   },
   "outputs": [
    {
     "ename": "",
     "evalue": "",
     "output_type": "error",
     "traceback": [
      "\u001b[1;31mThe Kernel crashed while executing code in the current cell or a previous cell. \n",
      "\u001b[1;31mPlease review the code in the cell(s) to identify a possible cause of the failure. \n",
      "\u001b[1;31mClick <a href='https://aka.ms/vscodeJupyterKernelCrash'>here</a> for more info. \n",
      "\u001b[1;31mView Jupyter <a href='command:jupyter.viewOutput'>log</a> for further details."
     ]
    }
   ],
   "source": [
    "# TODO: 2. Resize images.\n",
    "def img_resize(images: List[np.ndarray], target_size: int = 224) -> np.ndarray:\n",
    "    \"\"\"\n",
    "    Resize images with the shortest edge to target_size and perform center cropping to square dimensions.\n",
    "    \n",
    "    Args:\n",
    "        images: List of input images in BGR format (OpenCV default) with shape (H, W, C)\n",
    "        target_size: Desired output size (both width and height after cropping). Default 224.\n",
    "        \n",
    "    Returns:\n",
    "        Stacked numpy array of processed images with shape (N, target_size, target_size, 3)\n",
    "        where N is the number of input images\n",
    "        \n",
    "    Raises:\n",
    "        ValueError: If input images have inconsistent channels or invalid dimensions\n",
    "        \n",
    "    Notes:\n",
    "        - Preserves original aspect ratio during resizing\n",
    "        - Performs center cropping to exact square dimensions\n",
    "        - Maintains uint8 dtype unless conversion forces float32\n",
    "        \n",
    "    Example:\n",
    "        >>> imgs = [cv2.imread('test.jpg')]  # List of BGR images\n",
    "        >>> processed = img_resize(imgs)\n",
    "        >>> processed.shape  # (1, 224, 224, 3)\n",
    "    \"\"\"\n",
    "    if not images:\n",
    "        return np.array([])\n",
    "\n",
    "    processed_images = []\n",
    "    for img in images:\n",
    "        if img.ndim != 3 or img.shape[2] not in [1, 3]:\n",
    "            raise ValueError(\"Input images must be 3D arrays with 1 or 3 channels.\")\n",
    "        \n",
    "        # Resize image while maintaining aspect ratio\n",
    "        h, w = img.shape[:2]\n",
    "        if h < w:\n",
    "            new_h, new_w = target_size, int(w * target_size / h)\n",
    "        else:\n",
    "            new_h, new_w = int(h * target_size / w), target_size\n",
    "        \n",
    "        resized_img = cv2.resize(img, (new_w, new_h))\n",
    "        \n",
    "        # Center crop to square dimensions\n",
    "        start_x = (new_w - target_size) // 2\n",
    "        start_y = (new_h - target_size) // 2\n",
    "        cropped_img = resized_img[start_y:start_y + target_size, start_x:start_x + target_size]\n",
    "        \n",
    "        processed_images.append(cropped_img)\n",
    "    \n",
    "    return np.stack(processed_images)\n",
    "    "
   ]
  },
  {
   "cell_type": "code",
   "execution_count": null,
   "id": "bd1862b268144556",
   "metadata": {
    "ExecuteTime": {
     "end_time": "2025-05-10T03:38:39.249145Z",
     "start_time": "2025-05-10T03:38:14.305937Z"
    },
    "collapsed": false
   },
   "outputs": [],
   "source": [
    "# Load images\n",
    "\n",
    "images_train, labels_train = image_loader(\"../dataset_split/train\")\n",
    "images_val, labels_val = image_loader(\"../dataset_split/val\")\n",
    "images_test, _ = image_loader(\"../dataset_split/test\")"
   ]
  },
  {
   "cell_type": "code",
   "execution_count": null,
   "id": "1975435fea13d751",
   "metadata": {
    "ExecuteTime": {
     "end_time": "2025-05-10T03:39:17.095684Z",
     "start_time": "2025-05-10T03:38:57.883480Z"
    },
    "collapsed": false
   },
   "outputs": [],
   "source": [
    "# Resize the images\n",
    "\n",
    "images_train = img_resize(images_train, 224)\n",
    "images_val = img_resize(images_val, 224)\n",
    "images_test = img_resize(images_test, 224)"
   ]
  },
  {
   "cell_type": "code",
   "execution_count": null,
   "id": "bd71fcddecfefdbf",
   "metadata": {
    "ExecuteTime": {
     "end_time": "2025-05-10T03:39:20.788788Z",
     "start_time": "2025-05-10T03:39:17.097418Z"
    },
    "collapsed": false
   },
   "outputs": [],
   "source": [
    "# TODO: 3. Convert the image data type as float32 and limit the range in [0, 1].\n",
    "\n",
    "images_train = images_train.astype(np.float32) / 255.0\n",
    "images_val = images_val.astype(np.float32) / 255.0\n",
    "images_test = images_test.astype(np.float32) / 255.0"
   ]
  },
  {
   "cell_type": "code",
   "execution_count": null,
   "id": "1938cec6018a8176",
   "metadata": {
    "ExecuteTime": {
     "end_time": "2025-05-10T03:39:21.156559Z",
     "start_time": "2025-05-10T03:39:20.789492Z"
    },
    "collapsed": false
   },
   "outputs": [
    {
     "name": "stdout",
     "output_type": "stream",
     "text": [
      "torch.Size([8, 3, 224, 224])\n",
      "('golden_retriever', 'parachute', 'convertible_car', 'goldfish', 'golden_retriever', 'convertible_car', 'rugby', 'goldfish')\n"
     ]
    }
   ],
   "source": [
    "# TODO: 4. Convert data from NHWC to NCHW and creat a PyTorch tensor from it.\n",
    "\n",
    "# the dataset is too large to load all at once, so will load in batches\n",
    "from torch.utils.data import Dataset, DataLoader\n",
    "import torch\n",
    "\n",
    "class CustomDataset(Dataset):\n",
    "    def __init__(self, images: np.ndarray, labels: List[str] = None):\n",
    "        self.images = images\n",
    "        self.labels = labels\n",
    "\n",
    "    def __len__(self):\n",
    "        return len(self.images)\n",
    "\n",
    "    def __getitem__(self, idx):\n",
    "        image = self.images[idx]\n",
    "        image_tensor = torch.tensor(image.transpose(2, 0, 1), dtype=torch.float32)\n",
    "        if self.labels is not None:\n",
    "            return image_tensor, self.labels[idx]\n",
    "        else:\n",
    "            return image_tensor, -1  # Dummy label for test\n",
    "\n",
    "\n",
    "tensor_train = CustomDataset(images_train, labels_train)\n",
    "tensor_val = CustomDataset(images_val, labels_val)\n",
    "tensor_test = CustomDataset(images_test)\n",
    "\n",
    "# Create DataLoader for batching\n",
    "batch_size = 8\n",
    "train_loader = DataLoader(tensor_train, batch_size=batch_size, shuffle=True)\n",
    "val_loader = DataLoader(tensor_val, batch_size=batch_size, shuffle=False)\n",
    "test_loader = DataLoader(tensor_test, batch_size=batch_size, shuffle=False)\n",
    "\n",
    "for images, labels in train_loader:\n",
    "    print(images.shape)  # Should be (batch_size, 3, 224, 224)\n",
    "    print(labels)  # Labels for the batch\n",
    "    break  # Just to check the first batch\n",
    "\n"
   ]
  },
  {
   "cell_type": "code",
   "execution_count": null,
   "id": "d584e1b61e015747",
   "metadata": {
    "ExecuteTime": {
     "end_time": "2025-05-10T03:39:32.523629Z",
     "start_time": "2025-05-10T03:39:21.158863Z"
    },
    "collapsed": false
   },
   "outputs": [],
   "source": [
    "# TODO: 5. Per-channel standardization of the dataset using training set statistics (mean and std computed independently for each color channel).\n",
    "#again the dataset is too large to load all at once, so will load in batches\n",
    "from torch.utils.data import DataLoader\n",
    "from typing import Tuple\n",
    "\n",
    "\n",
    "def compute_mean_std(loader: DataLoader) -> Tuple[np.ndarray, np.ndarray]:\n",
    "    \"\"\"\n",
    "    Compute per-channel mean and standard deviation for a dataset.\n",
    "    \n",
    "    Args:\n",
    "        loader: DataLoader for the dataset\n",
    "        \n",
    "    Returns:\n",
    "        Tuple of (mean, std) arrays with shape (3,)\n",
    "    \"\"\"\n",
    "    mean = torch.zeros(3)\n",
    "    std = torch.zeros(3)\n",
    "    count = 0\n",
    "    \n",
    "    for images, _ in loader:\n",
    "        batch_size = images.size(0)\n",
    "        count += batch_size\n",
    "\n",
    "        mean += images.mean(dim=[0, 2, 3]) * batch_size\n",
    "        std += images.std(dim=[0, 2, 3]) * batch_size\n",
    "\n",
    "    mean /= count\n",
    "    std /= count\n",
    "\n",
    "    return mean.numpy(), std.numpy()"
   ]
  },
  {
   "cell_type": "code",
   "execution_count": null,
   "id": "9f7a684ba9e6561c",
   "metadata": {
    "ExecuteTime": {
     "end_time": "2025-05-10T03:39:41.944582Z",
     "start_time": "2025-05-10T03:39:32.524747Z"
    },
    "collapsed": false
   },
   "outputs": [
    {
     "name": "stdout",
     "output_type": "stream",
     "text": [
      "Mean: tensor([0.4079, 0.4625, 0.4881]), Std: tensor([0.2765, 0.2557, 0.2672])\n"
     ]
    },
    {
     "ename": "TypeError",
     "evalue": "unsupported operand type(s) for -: 'list' and 'Tensor'",
     "output_type": "error",
     "traceback": [
      "\u001b[31m---------------------------------------------------------------------------\u001b[39m",
      "\u001b[31mTypeError\u001b[39m                                 Traceback (most recent call last)",
      "\u001b[36mCell\u001b[39m\u001b[36m \u001b[39m\u001b[32mIn[10]\u001b[39m\u001b[32m, line 21\u001b[39m\n\u001b[32m     19\u001b[39m \u001b[38;5;28mprint\u001b[39m(\u001b[33mf\u001b[39m\u001b[33m\"\u001b[39m\u001b[33mMean: \u001b[39m\u001b[38;5;132;01m{\u001b[39;00mmean\u001b[38;5;132;01m}\u001b[39;00m\u001b[33m, Std: \u001b[39m\u001b[38;5;132;01m{\u001b[39;00mstd\u001b[38;5;132;01m}\u001b[39;00m\u001b[33m\"\u001b[39m)\n\u001b[32m     20\u001b[39m \u001b[38;5;66;03m# Save the normalized images and labels for train, val, and test sets\u001b[39;00m\n\u001b[32m---> \u001b[39m\u001b[32m21\u001b[39m \u001b[43mnormalise_and_save\u001b[49m\u001b[43m(\u001b[49m\u001b[43mtrain_loader\u001b[49m\u001b[43m,\u001b[49m\u001b[43m \u001b[49m\u001b[43mmean\u001b[49m\u001b[43m,\u001b[49m\u001b[43m \u001b[49m\u001b[43mstd\u001b[49m\u001b[43m,\u001b[49m\u001b[43m \u001b[49m\u001b[33;43m'\u001b[39;49m\u001b[33;43mtrain\u001b[39;49m\u001b[33;43m'\u001b[39;49m\u001b[43m)\u001b[49m\n\u001b[32m     22\u001b[39m normalise_and_save(val_loader, mean, std, \u001b[33m'\u001b[39m\u001b[33mval\u001b[39m\u001b[33m'\u001b[39m)\n\u001b[32m     23\u001b[39m normalise_and_save(test_loader, mean, std, \u001b[33m'\u001b[39m\u001b[33mtest\u001b[39m\u001b[33m'\u001b[39m)\n",
      "\u001b[36mCell\u001b[39m\u001b[36m \u001b[39m\u001b[32mIn[10]\u001b[39m\u001b[32m, line 13\u001b[39m, in \u001b[36mnormalise_and_save\u001b[39m\u001b[34m(loader, mean, std, prefix)\u001b[39m\n\u001b[32m     11\u001b[39m \u001b[38;5;28;01melse\u001b[39;00m:\n\u001b[32m     12\u001b[39m     images = batch\n\u001b[32m---> \u001b[39m\u001b[32m13\u001b[39m     images = (\u001b[43mimages\u001b[49m\u001b[43m \u001b[49m\u001b[43m-\u001b[49m\u001b[43m \u001b[49m\u001b[43mmean\u001b[49m\u001b[43m[\u001b[49m\u001b[38;5;28;43;01mNone\u001b[39;49;00m\u001b[43m,\u001b[49m\u001b[43m \u001b[49m\u001b[43m:\u001b[49m\u001b[43m,\u001b[49m\u001b[43m \u001b[49m\u001b[38;5;28;43;01mNone\u001b[39;49;00m\u001b[43m,\u001b[49m\u001b[43m \u001b[49m\u001b[38;5;28;43;01mNone\u001b[39;49;00m\u001b[43m]\u001b[49m) / std[\u001b[38;5;28;01mNone\u001b[39;00m, :, \u001b[38;5;28;01mNone\u001b[39;00m, \u001b[38;5;28;01mNone\u001b[39;00m]\n\u001b[32m     14\u001b[39m     torch.save(images, \u001b[33mf\u001b[39m\u001b[33m'\u001b[39m\u001b[38;5;132;01m{\u001b[39;00mprefix\u001b[38;5;132;01m}\u001b[39;00m\u001b[33m_images.pt\u001b[39m\u001b[33m'\u001b[39m)\n",
      "\u001b[31mTypeError\u001b[39m: unsupported operand type(s) for -: 'list' and 'Tensor'"
     ]
    }
   ],
   "source": [
    "# TODO: 6. Save the pre-processed sets as .pt files.\n",
    "\n",
    "# 6.1 Save the tensor_train, tensor_val, and tensor_test as tensor_train.pt, tensor_val.pt, and tensor_test.pt, respectively.\n",
    "def normalise_and_save(loader: DataLoader, mean: torch.Tensor, std: torch.Tensor, prefix: str):\n",
    "    all_images = []\n",
    "    all_labels = []\n",
    "    \n",
    "    for images, labels in loader:\n",
    "        images = (images - mean[None, :, None, None]) / std[None, :, None, None]\n",
    "        all_images.append(images)\n",
    "        all_labels.extend(labels)\n",
    "\n",
    "    # Stack everything into tensors\n",
    "    all_images_tensor = torch.cat(all_images, dim=0)\n",
    "    \n",
    "    if all_labels[0] != -1:  # check if real labels\n",
    "        torch.save(all_images_tensor, f'{prefix}_images.pt')\n",
    "        torch.save(all_labels, f'{prefix}_labels.pt')\n",
    "    else:\n",
    "        torch.save(all_images_tensor, f'{prefix}_images.pt')\n",
    "\n",
    "        \n",
    "mean, std = compute_mean_std(train_loader)\n",
    "mean = torch.tensor(mean, dtype=torch.float32)\n",
    "std = torch.tensor(std, dtype=torch.float32)\n",
    "print(f\"Mean: {mean}, Std: {std}\")\n",
    "# Save the normalized images and labels for train, val, and test sets\n",
    "normalise_and_save(train_loader, mean, std, 'train')\n",
    "normalise_and_save(val_loader, mean, std, 'val')\n",
    "normalise_and_save(test_loader, mean, std, 'test')\n",
    "\n",
    "# 6.2 Create a list to map index to label and a dictionary to map label to index.\n",
    "#   For instance:\n",
    "#       unique_labels = ['african_elephant', 'airliner', ...]\n",
    "#       label_to_index = {\n",
    "#           'african_elephant': 0,\n",
    "#           'airliner': 1,\n",
    "#           ...\n",
    "#       }\n",
    "unique_labels = list(set(labels_train + labels_val))\n",
    "label_to_index = {label: idx for idx, label in enumerate(unique_labels)}\n",
    "\n",
    "# 6.3 Map the labels to index.\n",
    "labels_train_index = [label_to_index[label] for label in labels_train]\n",
    "labels_val_index = [label_to_index[label] for label in labels_val]\n",
    "\n",
    "# 6.4 Save the index, label_to_index, and index_to_label.\n",
    "index_to_label = {idx: label for label, idx in label_to_index.items()}\n",
    "def combine_all_batches(loader: DataLoader) -> torch.tensor:\n",
    "    all_images = []\n",
    "    all_labels = []\n",
    "    for batch in loader:\n",
    "        if isinstance(batch, tuple):\n",
    "            images, labels = batch\n",
    "            all_images.append(images)\n",
    "            all_labels.extend(labels)\n",
    "        else:\n",
    "            all_images.append(batch)\n",
    "    return torch.cat(all_images, dim=0), all_labels\n",
    "train_tensor, train_labels = combine_all_batches(train_loader)\n",
    "val_tensor, val_labels = combine_all_batches(val_loader)\n",
    "test_tensor, _ = combine_all_batches(test_loader)\n",
    "\n",
    "torch.save(train_tensor, 'tensor_train.pt')\n",
    "torch.save(val_tensor, 'tensor_val.pt')\n",
    "torch.save(test_tensor, 'tensor_test.pt')\n"
   ]
  },
  {
   "cell_type": "code",
   "execution_count": null,
   "id": "a3a5a646027a826",
   "metadata": {
    "ExecuteTime": {
     "end_time": "2025-05-10T03:39:45.192760Z",
     "start_time": "2025-05-10T03:39:41.946771Z"
    },
    "collapsed": false
   },
   "outputs": [],
   "source": [
    "# TODO: 7. Load the pre-processed sets from .pt files. The data can be used directly in future without pre-processing once more by loading from the folder.\n",
    "\n",
    "tensor_train = torch.load('tensor_train.pt')\n",
    "tensor_val = torch.load('tensor_val.pt')\n",
    "tensor_test = torch.load('tensor_test.pt')  \n"
   ]
  },
  {
   "cell_type": "markdown",
   "id": "f5cb7cfa317410ff",
   "metadata": {
    "collapsed": false
   },
   "source": [
    "# Step 2 Train the teacher model (ResNet34)\n",
    "1. Set hyperparameters for the training process.\n",
    "2. Create a pretrained ResNet34.\n",
    "3. Define the optimizer, loss function, etc.\n",
    "4. Train ResNet34 and save the best-performing parameters to 'resnet34_checkpoint.pkl'.\n",
    "5. Plot the loss and accuracy curves."
   ]
  },
  {
   "cell_type": "code",
   "execution_count": null,
   "id": "745979a1b12465eb",
   "metadata": {
    "ExecuteTime": {
     "end_time": "2025-05-10T01:43:51.705549Z",
     "start_time": "2025-05-10T01:43:51.663106Z"
    },
    "collapsed": false
   },
   "outputs": [
    {
     "name": "stdout",
     "output_type": "stream",
     "text": [
      "tensor(10)\n",
      "torch.Size([7800, 3, 224, 224])\n",
      "torch.Size([2600, 3, 224, 224])\n",
      "torch.Size([2600, 3, 224, 224])\n",
      "torch.Size([7800])\n",
      "torch.Size([2600])\n"
     ]
    }
   ],
   "source": [
    "# Verify data shapes\n",
    "\n",
    "num_classes = max(labels_train_index) + 1\n",
    "print(num_classes)\n",
    "print(tensor_train.shape)\n",
    "print(tensor_val.shape)\n",
    "print(tensor_test.shape)\n",
    "print(labels_train_index.shape)\n",
    "print(labels_val_index.shape)"
   ]
  },
  {
   "cell_type": "code",
   "execution_count": null,
   "id": "507aa43e1a3701b5",
   "metadata": {
    "ExecuteTime": {
     "end_time": "2025-05-10T01:43:52.604546Z",
     "start_time": "2025-05-10T01:43:52.600245Z"
    },
    "collapsed": false
   },
   "outputs": [],
   "source": [
    "# TODO: 1. Set hyperparameters for the training process.\n",
    "\n",
    "MAX_EPOCH = \n",
    "INIT_LR = \n",
    "BATCH_SIZE = \n",
    "\n",
    "# Specify the training device (automatically detects GPU if available)\n",
    "# Usage example: \n",
    "#   tensor = tensor.to(device)  # Moves tensor to selected device\n",
    "device = torch.device(\"cuda\" if torch.cuda.is_available() else \"cpu\")"
   ]
  },
  {
   "cell_type": "code",
   "execution_count": null,
   "id": "c8b9bf9ed5ae5cf9",
   "metadata": {
    "ExecuteTime": {
     "end_time": "2025-05-10T01:43:55.541802Z",
     "start_time": "2025-05-10T01:43:55.291383Z"
    },
    "collapsed": false
   },
   "outputs": [],
   "source": [
    "# TODO: 2. Create a pretrained ResNet34.\n",
    "\n",
    "# 2.1 Use torchvision to create a pretrained ResNet34.\n",
    "resnet34 = \n",
    "\n",
    "# 2.2 Modify the output layer so that the model aligns with this project.\n",
    "\n",
    "# 2.2 Move the model to selected device.\n"
   ]
  },
  {
   "cell_type": "code",
   "execution_count": null,
   "id": "70de5ac59beb12d",
   "metadata": {
    "ExecuteTime": {
     "end_time": "2025-05-10T01:43:56.555839Z",
     "start_time": "2025-05-10T01:43:56.542721Z"
    },
    "collapsed": false
   },
   "outputs": [],
   "source": [
    "# TODO: 3. Define the optimizer, loss function, etc.\n",
    "\n",
    "optimizer = \n",
    "criterion = "
   ]
  },
  {
   "cell_type": "code",
   "execution_count": null,
   "id": "65a797debcc531db",
   "metadata": {
    "collapsed": false
   },
   "outputs": [],
   "source": [
    "# TODO: 4. Train ResNet34 and save the best-performing parameters to 'resnet34_checkpoint.pkl'.\n",
    "# Hint: May not need too many epochs as this is a pretrained model.\n",
    "\n",
    "train_accs_resnet34, train_losses_resnet34, val_accs_resnet34, val_losses_resnet34 = [], [], [], []\n"
   ]
  },
  {
   "cell_type": "code",
   "execution_count": null,
   "id": "bb5a3089891cf4a3",
   "metadata": {
    "collapsed": false
   },
   "outputs": [],
   "source": [
    "# TODO: 5. Plot the loss and accuracy curves.\n"
   ]
  },
  {
   "cell_type": "markdown",
   "id": "897fa4102b57deab",
   "metadata": {
    "collapsed": false
   },
   "source": [
    "# Step 3 Train the student model (ResNet18)\n",
    "1. Set hyperparameters for the distillation process.\n",
    "2. Create a NON-PRETRAINED ResNet18 and move the model to selected device.\n",
    "3. Load the saved ResNet34 and move the model to selected device.\n",
    "4. Define the optimizer, loss function, etc.\n",
    "5. Train ResNet18 and save the best-performing parameters to 'resnet18_checkpoint.pkl'.\n",
    "6. Plot the loss and accuracy curves."
   ]
  },
  {
   "cell_type": "code",
   "execution_count": null,
   "id": "68482456ab9410f8",
   "metadata": {
    "ExecuteTime": {
     "end_time": "2025-05-10T01:57:38.370616Z",
     "start_time": "2025-05-10T01:57:38.341026Z"
    },
    "collapsed": false
   },
   "outputs": [
    {
     "name": "stdout",
     "output_type": "stream",
     "text": [
      "tensor(10)\n",
      "torch.Size([7800, 3, 224, 224])\n",
      "torch.Size([2600, 3, 224, 224])\n",
      "torch.Size([2600, 3, 224, 224])\n",
      "torch.Size([7800])\n",
      "torch.Size([2600])\n"
     ]
    }
   ],
   "source": [
    "# Verify data shapes\n",
    "\n",
    "num_classes = max(labels_train_index) + 1\n",
    "print(num_classes)\n",
    "print(tensor_train.shape)\n",
    "print(tensor_val.shape)\n",
    "print(tensor_test.shape)\n",
    "print(labels_train_index.shape)\n",
    "print(labels_val_index.shape)"
   ]
  },
  {
   "cell_type": "code",
   "execution_count": null,
   "id": "36a405975e022459",
   "metadata": {
    "ExecuteTime": {
     "end_time": "2025-05-10T01:57:39.329470Z",
     "start_time": "2025-05-10T01:57:39.294551Z"
    },
    "collapsed": false
   },
   "outputs": [],
   "source": [
    "# TODO: 1. Set hyperparameters for the distillation process.\n",
    "\n",
    "MAX_EPOCH =\n",
    "INIT_LR =\n",
    "BATCH_SIZE =\n",
    "device = torch.device(\"cuda\" if torch.cuda.is_available() else \"cpu\")\n",
    "\n",
    "TEMPERATURE = \n",
    "LOSS_RATIO = "
   ]
  },
  {
   "cell_type": "code",
   "execution_count": null,
   "id": "e7d2325836c2cf7d",
   "metadata": {
    "ExecuteTime": {
     "end_time": "2025-05-10T01:57:43.030265Z",
     "start_time": "2025-05-10T01:57:42.861042Z"
    },
    "collapsed": false
   },
   "outputs": [],
   "source": [
    "# TODO: 2. Create a NON-PRETRAINED ResNet18 and move the model to selected device.\n",
    "\n",
    "resnet18 = "
   ]
  },
  {
   "cell_type": "code",
   "execution_count": null,
   "id": "b8092f5d5acce972",
   "metadata": {
    "collapsed": false
   },
   "outputs": [],
   "source": [
    "# TODO: 3. Load the saved ResNet34 and move the model to selected device.\n",
    "# Hint: Enable the evaluation mode to prevent updating the parameters.\n",
    "\n",
    "resnet34 = "
   ]
  },
  {
   "cell_type": "code",
   "execution_count": null,
   "id": "f312a04da1e5ddf6",
   "metadata": {
    "ExecuteTime": {
     "end_time": "2025-05-10T01:57:49.170629Z",
     "start_time": "2025-05-10T01:57:49.152278Z"
    },
    "collapsed": false
   },
   "outputs": [],
   "source": [
    "# TODO: 4. Define the optimizer, loss function, etc.\n",
    "\n",
    "optimizer = \n",
    "scheduler = "
   ]
  },
  {
   "cell_type": "code",
   "execution_count": null,
   "id": "3c17f3f9eb662cef",
   "metadata": {
    "collapsed": false
   },
   "outputs": [],
   "source": [
    "# TODO: 5. Train ResNet18 and save the best-performing parameters to 'resnet18_checkpoint.pkl'.\n",
    "# Hint: Use the correct loss function for knowledge distillation.\n",
    "#       Details can be fund in https://docs.pytorch.org/tutorials/beginner/knowledge_distillation_tutorial.html.\n",
    "\n",
    "train_accs_resnet18, train_losses_resnet18, val_accs_resnet18, val_losses_resnet18 = [], [], [], []\n"
   ]
  },
  {
   "cell_type": "code",
   "execution_count": null,
   "id": "260396b6b143a422",
   "metadata": {
    "ExecuteTime": {
     "end_time": "2025-05-10T03:04:33.157515Z",
     "start_time": "2025-05-10T03:04:32.960493Z"
    },
    "collapsed": false
   },
   "outputs": [
    {
     "data": {
      "image/png": "[encoded data removed]",
      "text/plain": [
       "<Figure size 640x480 with 1 Axes>"
      ]
     },
     "metadata": {},
     "output_type": "display_data"
    },
    {
     "data": {
      "image/png": "[encoded data removed]",
      "text/plain": [
       "<Figure size 640x480 with 1 Axes>"
      ]
     },
     "metadata": {},
     "output_type": "display_data"
    }
   ],
   "source": [
    "# TODO: 6. Plot the loss and accuracy curves.\n",
    "\n"
   ]
  },
  {
   "cell_type": "markdown",
   "id": "730790a6c4e96912",
   "metadata": {
    "collapsed": false
   },
   "source": [
    "# Step 4 Predict labels in the testing set\n",
    "1. Load the saved ResNet18 and move it to the selected device.\n",
    "2. Do prediction using the images in the testing set.\n",
    "3. Write the results into the CSV file for submission."
   ]
  },
  {
   "cell_type": "code",
   "execution_count": null,
   "id": "d2a8f6f703b42a0a",
   "metadata": {
    "collapsed": false
   },
   "outputs": [],
   "source": [
    "# TODO: 1. Load the saved ResNet18 and move it to the selected device.\n",
    "# Hint: Enable the evaluation mode to prevent updating the parameters.\n",
    "\n",
    "resnet18 = \n"
   ]
  },
  {
   "cell_type": "code",
   "execution_count": null,
   "id": "44ee908450e937e7",
   "metadata": {
    "ExecuteTime": {
     "end_time": "2025-05-10T03:43:20.873625Z",
     "start_time": "2025-05-10T03:43:18.999813Z"
    },
    "collapsed": false
   },
   "outputs": [],
   "source": [
    "# TODO: 2. Do prediction using the images in the testing set.\n",
    "predictions = []\n"
   ]
  },
  {
   "cell_type": "code",
   "execution_count": null,
   "id": "bee5ddbde0d132cf",
   "metadata": {
    "collapsed": false
   },
   "outputs": [],
   "source": [
    "# TODO: 3. Write the results into the CSV file for submission.\n",
    "# Hint: The CSV file should be in the format of 'file_name' and 'label'.\n",
    "#       The submission.csv should look like:\n",
    "#           file_name,label\n",
    "#           0.jpg,sunglasses\n",
    "#           ...\n",
    "\n",
    "index_to_label = \n"
   ]
  }
 ],
 "metadata": {
  "kernelspec": {
   "display_name": ".venv",
   "language": "python",
   "name": "python3"
  },
  "language_info": {
   "codemirror_mode": {
    "name": "ipython",
    "version": 3
   },
   "file_extension": ".py",
   "mimetype": "text/x-python",
   "name": "python",
   "nbconvert_exporter": "python",
   "pygments_lexer": "ipython3",
   "version": "3.11.6"
  }
 },
 "nbformat": 4,
 "nbformat_minor": 5
}
